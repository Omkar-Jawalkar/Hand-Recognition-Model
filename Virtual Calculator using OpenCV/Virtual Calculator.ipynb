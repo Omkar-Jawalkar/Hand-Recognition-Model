{
 "cells": [
  {
   "cell_type": "code",
   "execution_count": 1,
   "id": "c8bb71a1",
   "metadata": {},
   "outputs": [],
   "source": [
    "import mediapipe\n",
    "from cvzone.HandTrackingModule import HandDetector\n",
    "import cv2\n",
    "import autopy"
   ]
  },
  {
   "cell_type": "code",
   "execution_count": 2,
   "id": "13b9f0b1",
   "metadata": {},
   "outputs": [
    {
     "name": "stdout",
     "output_type": "stream",
     "text": [
      "1536.0 864.0\n"
     ]
    }
   ],
   "source": [
    "wScr,hScr = autopy.screen.size()\n",
    "print(wScr,hScr)"
   ]
  },
  {
   "cell_type": "code",
   "execution_count": null,
   "id": "6bdbca5f",
   "metadata": {},
   "outputs": [],
   "source": []
  },
  {
   "cell_type": "code",
   "execution_count": 5,
   "id": "512f7228",
   "metadata": {},
   "outputs": [
    {
     "ename": "KeyboardInterrupt",
     "evalue": "",
     "output_type": "error",
     "traceback": [
      "\u001b[1;31m---------------------------------------------------------------------------\u001b[0m",
      "\u001b[1;31mKeyboardInterrupt\u001b[0m                         Traceback (most recent call last)",
      "\u001b[1;32m<ipython-input-5-2c95af265747>\u001b[0m in \u001b[0;36m<module>\u001b[1;34m\u001b[0m\n\u001b[0;32m     46\u001b[0m     \u001b[0msuccess\u001b[0m\u001b[1;33m,\u001b[0m \u001b[0mimg\u001b[0m \u001b[1;33m=\u001b[0m \u001b[0mcap\u001b[0m\u001b[1;33m.\u001b[0m\u001b[0mread\u001b[0m\u001b[1;33m(\u001b[0m\u001b[1;33m)\u001b[0m\u001b[1;33m\u001b[0m\u001b[1;33m\u001b[0m\u001b[0m\n\u001b[0;32m     47\u001b[0m     \u001b[0mimg\u001b[0m \u001b[1;33m=\u001b[0m \u001b[0mcv2\u001b[0m\u001b[1;33m.\u001b[0m\u001b[0mflip\u001b[0m\u001b[1;33m(\u001b[0m\u001b[0mimg\u001b[0m\u001b[1;33m,\u001b[0m \u001b[1;36m1\u001b[0m\u001b[1;33m)\u001b[0m\u001b[1;33m\u001b[0m\u001b[1;33m\u001b[0m\u001b[0m\n\u001b[1;32m---> 48\u001b[1;33m     \u001b[0mhands\u001b[0m\u001b[1;33m,\u001b[0m \u001b[0mimg\u001b[0m\u001b[1;33m=\u001b[0m \u001b[0mdetector\u001b[0m\u001b[1;33m.\u001b[0m\u001b[0mfindHands\u001b[0m\u001b[1;33m(\u001b[0m\u001b[0mimg\u001b[0m\u001b[1;33m,\u001b[0m \u001b[0mflipType\u001b[0m\u001b[1;33m=\u001b[0m\u001b[1;32mFalse\u001b[0m\u001b[1;33m)\u001b[0m\u001b[1;33m\u001b[0m\u001b[1;33m\u001b[0m\u001b[0m\n\u001b[0m\u001b[0;32m     49\u001b[0m \u001b[1;33m\u001b[0m\u001b[0m\n\u001b[0;32m     50\u001b[0m     \u001b[0mcv2\u001b[0m\u001b[1;33m.\u001b[0m\u001b[0mrectangle\u001b[0m\u001b[1;33m(\u001b[0m\u001b[0mimg\u001b[0m\u001b[1;33m,\u001b[0m\u001b[1;33m(\u001b[0m\u001b[1;36m800\u001b[0m\u001b[1;33m,\u001b[0m\u001b[1;36m40\u001b[0m\u001b[1;33m)\u001b[0m\u001b[1;33m,\u001b[0m\u001b[1;33m(\u001b[0m\u001b[1;36m800\u001b[0m\u001b[1;33m+\u001b[0m\u001b[1;36m400\u001b[0m\u001b[1;33m,\u001b[0m\u001b[1;36m40\u001b[0m\u001b[1;33m+\u001b[0m\u001b[1;36m110\u001b[0m\u001b[1;33m)\u001b[0m\u001b[1;33m,\u001b[0m\u001b[1;33m(\u001b[0m\u001b[1;36m225\u001b[0m\u001b[1;33m,\u001b[0m\u001b[1;36m225\u001b[0m\u001b[1;33m,\u001b[0m\u001b[1;36m225\u001b[0m\u001b[1;33m)\u001b[0m\u001b[1;33m,\u001b[0m\u001b[0mcv2\u001b[0m\u001b[1;33m.\u001b[0m\u001b[0mFILLED\u001b[0m\u001b[1;33m)\u001b[0m\u001b[1;33m\u001b[0m\u001b[1;33m\u001b[0m\u001b[0m\n",
      "\u001b[1;32m~\\anaconda3\\lib\\site-packages\\cvzone\\HandTrackingModule.py\u001b[0m in \u001b[0;36mfindHands\u001b[1;34m(self, img, draw, flipType)\u001b[0m\n\u001b[0;32m     47\u001b[0m         \"\"\"\n\u001b[0;32m     48\u001b[0m         \u001b[0mimgRGB\u001b[0m \u001b[1;33m=\u001b[0m \u001b[0mcv2\u001b[0m\u001b[1;33m.\u001b[0m\u001b[0mcvtColor\u001b[0m\u001b[1;33m(\u001b[0m\u001b[0mimg\u001b[0m\u001b[1;33m,\u001b[0m \u001b[0mcv2\u001b[0m\u001b[1;33m.\u001b[0m\u001b[0mCOLOR_BGR2RGB\u001b[0m\u001b[1;33m)\u001b[0m\u001b[1;33m\u001b[0m\u001b[1;33m\u001b[0m\u001b[0m\n\u001b[1;32m---> 49\u001b[1;33m         \u001b[0mself\u001b[0m\u001b[1;33m.\u001b[0m\u001b[0mresults\u001b[0m \u001b[1;33m=\u001b[0m \u001b[0mself\u001b[0m\u001b[1;33m.\u001b[0m\u001b[0mhands\u001b[0m\u001b[1;33m.\u001b[0m\u001b[0mprocess\u001b[0m\u001b[1;33m(\u001b[0m\u001b[0mimgRGB\u001b[0m\u001b[1;33m)\u001b[0m\u001b[1;33m\u001b[0m\u001b[1;33m\u001b[0m\u001b[0m\n\u001b[0m\u001b[0;32m     50\u001b[0m         \u001b[0mallHands\u001b[0m \u001b[1;33m=\u001b[0m \u001b[1;33m[\u001b[0m\u001b[1;33m]\u001b[0m\u001b[1;33m\u001b[0m\u001b[1;33m\u001b[0m\u001b[0m\n\u001b[0;32m     51\u001b[0m         \u001b[0mh\u001b[0m\u001b[1;33m,\u001b[0m \u001b[0mw\u001b[0m\u001b[1;33m,\u001b[0m \u001b[0mc\u001b[0m \u001b[1;33m=\u001b[0m \u001b[0mimg\u001b[0m\u001b[1;33m.\u001b[0m\u001b[0mshape\u001b[0m\u001b[1;33m\u001b[0m\u001b[1;33m\u001b[0m\u001b[0m\n",
      "\u001b[1;32m~\\anaconda3\\lib\\site-packages\\mediapipe\\python\\solutions\\hands.py\u001b[0m in \u001b[0;36mprocess\u001b[1;34m(self, image)\u001b[0m\n\u001b[0;32m    151\u001b[0m     \"\"\"\n\u001b[0;32m    152\u001b[0m \u001b[1;33m\u001b[0m\u001b[0m\n\u001b[1;32m--> 153\u001b[1;33m     \u001b[1;32mreturn\u001b[0m \u001b[0msuper\u001b[0m\u001b[1;33m(\u001b[0m\u001b[1;33m)\u001b[0m\u001b[1;33m.\u001b[0m\u001b[0mprocess\u001b[0m\u001b[1;33m(\u001b[0m\u001b[0minput_data\u001b[0m\u001b[1;33m=\u001b[0m\u001b[1;33m{\u001b[0m\u001b[1;34m'image'\u001b[0m\u001b[1;33m:\u001b[0m \u001b[0mimage\u001b[0m\u001b[1;33m}\u001b[0m\u001b[1;33m)\u001b[0m\u001b[1;33m\u001b[0m\u001b[1;33m\u001b[0m\u001b[0m\n\u001b[0m",
      "\u001b[1;32m~\\anaconda3\\lib\\site-packages\\mediapipe\\python\\solution_base.py\u001b[0m in \u001b[0;36mprocess\u001b[1;34m(self, input_data)\u001b[0m\n\u001b[0;32m    332\u001b[0m                                      data).at(self._simulated_timestamp))\n\u001b[0;32m    333\u001b[0m \u001b[1;33m\u001b[0m\u001b[0m\n\u001b[1;32m--> 334\u001b[1;33m     \u001b[0mself\u001b[0m\u001b[1;33m.\u001b[0m\u001b[0m_graph\u001b[0m\u001b[1;33m.\u001b[0m\u001b[0mwait_until_idle\u001b[0m\u001b[1;33m(\u001b[0m\u001b[1;33m)\u001b[0m\u001b[1;33m\u001b[0m\u001b[1;33m\u001b[0m\u001b[0m\n\u001b[0m\u001b[0;32m    335\u001b[0m     \u001b[1;31m# Create a NamedTuple object where the field names are mapping to the graph\u001b[0m\u001b[1;33m\u001b[0m\u001b[1;33m\u001b[0m\u001b[1;33m\u001b[0m\u001b[0m\n\u001b[0;32m    336\u001b[0m     \u001b[1;31m# output stream names.\u001b[0m\u001b[1;33m\u001b[0m\u001b[1;33m\u001b[0m\u001b[1;33m\u001b[0m\u001b[0m\n",
      "\u001b[1;31mKeyboardInterrupt\u001b[0m: "
     ]
    }
   ],
   "source": [
    "cap = cv2.VideoCapture(0)\n",
    "cap.set(3,1536)\n",
    "cap.set(4,864)\n",
    "detector = HandDetector(detectionCon = 0.8, maxHands=1)\n",
    "myEquation = \"\"\n",
    "delayCounter = 0\n",
    "\n",
    "#Creating Class for Buttons\n",
    "class Button:\n",
    "    def __init__(self,pos,width,height,value):   \n",
    "        self.pos = pos\n",
    "        self.width = width\n",
    "        self.height = height\n",
    "        self.value = value\n",
    "        \n",
    "    def draw(self,img):\n",
    "        cv2.rectangle(img,self.pos,(self.pos[0]+self.width,self.pos[1]+self.height),(225,225,225),cv2.FILLED)\n",
    "        cv2.rectangle(img,self.pos,(self.pos[0]+self.width,self.pos[1]+self.height),(25,25,25),4)\n",
    "        cv2.putText(img,self.value,(self.pos[0]+30,self.pos[1]+70),cv2.FONT_HERSHEY_SIMPLEX,2,(50,50,50),2)\n",
    "    \n",
    "    def checkClick(self,x,y):\n",
    "        if self.pos[0]<x<self.pos[0]+self.width and self.pos[1]<y<self.pos[1]+self.height:\n",
    "            cv2.rectangle(img,self.pos,(self.pos[0]+self.width,self.pos[1]+self.height),(255,255,255),cv2.FILLED)\n",
    "            cv2.rectangle(img,self.pos,(self.pos[0]+self.width,self.pos[1]+self.height),(25,25,25),4)\n",
    "            cv2.putText(img,self.value,(self.pos[0]+20,self.pos[1]+80),cv2.FONT_HERSHEY_SIMPLEX,3,(50,50,50),3)\n",
    "            return True\n",
    "        else:\n",
    "            return False\n",
    "\n",
    "        \n",
    "buttonValues = [[\"7\", \"8\", \"9\",\"*\" ],\n",
    "               [\"4\", \"5\", \"6\",\"-\" ],\n",
    "               [\"1\", \"2\", \"3\",\"+\" ],\n",
    "               [\"0\", \"/\", \".\",\"=\" ],]\n",
    "buttonList = []\n",
    "\n",
    "for i in range(4):\n",
    "    for j in range(4):\n",
    "        xpos = i*100+800\n",
    "        ypos = j*100+150\n",
    "        buttonList.append(Button((xpos,ypos),100,100,buttonValues[j][i]))\n",
    "\n",
    "\n",
    "#Loop\n",
    "while True:\n",
    "    success, img = cap.read()\n",
    "    img = cv2.flip(img, 1)\n",
    "    hands, img= detector.findHands(img, flipType=False)\n",
    "    \n",
    "    cv2.rectangle(img,(800,40),(800+400,40+110),(225,225,225),cv2.FILLED)\n",
    "    cv2.rectangle(img,(800,40),(800+400,40+110),(50,50,50),4)\n",
    "    cv2.rectangle(img,(1100,65),(1100+80,65+60),(225,225,225),cv2.FILLED)\n",
    "    cv2.rectangle(img,(1100,65),(1100+80,65+60),(50,50,50),4)\n",
    "    cv2.putText(img,\"X\",(1100+20,65+50),cv2.FONT_HERSHEY_SIMPLEX,2,(50,50,50),2)\n",
    "    \n",
    "\n",
    "    \n",
    "    for button in buttonList:\n",
    "        button.draw(img)\n",
    "        \n",
    "         \n",
    "    if hands:\n",
    "        lmList = hands[0]['lmList']\n",
    "        length, _, img= detector.findDistance((lmList[8][0],lmList[8][1]),(lmList[12][0],lmList[12][1]),img)\n",
    "        x,y = lmList[8][0],lmList[8][1]\n",
    "        if length<50:\n",
    "            for i,button in enumerate(buttonList):\n",
    "                if button.checkClick(x,y) and delayCounter == 0:\n",
    "                    myValue = buttonValues[int(i%4)][int(i/4)]\n",
    "                    if myValue == \"=\":\n",
    "                        myEquation = str(eval(myEquation))\n",
    "                    else:\n",
    "                        myEquation += myValue\n",
    "                    delayCounter = 1\n",
    "                    \n",
    "    if 1100<lmList[8][0]<1100+80 and 65<lmList[8][1]<65+60:\n",
    "        cv2.rectangle(img,(1100,65),(1100+80,65+60),(0,255,0),cv2.FILLED)\n",
    "        cv2.rectangle(img,(1100,65),(1100+80,65+60),(50,50,50),4)\n",
    "        cv2.putText(img,\"X\",(1100+20,65+50),cv2.FONT_HERSHEY_SIMPLEX,2,(50,50,50),2)\n",
    "        \n",
    "        myEquation = \"\"\n",
    "        \n",
    "    \n",
    "    if delayCounter !=0:\n",
    "        delayCounter +=1\n",
    "        if delayCounter >10:\n",
    "            delayCounter = 0\n",
    "        \n",
    "    \n",
    "    cv2.putText(img,myEquation,(800+30,40+70),cv2.FONT_HERSHEY_SIMPLEX,2,(50,50,50),2)\n",
    "#     Display\n",
    "    cv2.imshow(\"Image\",img)\n",
    "    cv2.waitKey(1)\n",
    "    "
   ]
  },
  {
   "cell_type": "code",
   "execution_count": null,
   "id": "111667ec",
   "metadata": {},
   "outputs": [],
   "source": []
  }
 ],
 "metadata": {
  "kernelspec": {
   "display_name": "Python 3",
   "language": "python",
   "name": "python3"
  },
  "language_info": {
   "codemirror_mode": {
    "name": "ipython",
    "version": 3
   },
   "file_extension": ".py",
   "mimetype": "text/x-python",
   "name": "python",
   "nbconvert_exporter": "python",
   "pygments_lexer": "ipython3",
   "version": "3.8.8"
  }
 },
 "nbformat": 4,
 "nbformat_minor": 5
}
